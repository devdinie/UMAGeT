{
 "cells": [
  {
   "cell_type": "code",
   "execution_count": 2,
   "source": [
    "import os\n",
    "import numpy   as np\n",
    "import nibabel as nib\n",
    "import nilearn\n",
    "import nipype\n",
    "import pylab\n",
    "import torchio\n",
    "import matplotlib.pyplot as plt\n",
    "import scipy\n",
    "import SimpleITK as sitk\n",
    "\n",
    "from nilearn import plotting"
   ],
   "outputs": [
    {
     "output_type": "stream",
     "name": "stderr",
     "text": [
      "/home/swapna91/virtualenvs/Uvenv2/lib/python3.7/site-packages/nilearn/datasets/__init__.py:90: FutureWarning: Fetchers from the nilearn.datasets module will be updated in version 0.9 to return python strings instead of bytes and Pandas dataframes instead of Numpy arrays.\n",
      "  \"Numpy arrays.\", FutureWarning)\n"
     ]
    }
   ],
   "metadata": {}
  },
  {
   "cell_type": "code",
   "execution_count": null,
   "source": [
    "# Checking normalized images and masks\n",
    "subject_id='ADB0015'\n",
    "\n",
    "img = nib.load('/home/swapna91/scratch/UMAGeT_21v1/data/brains_aug/'+subject_id+'_t1_n0.nii')\n",
    "msk = nib.load('/home/swapna91/scratch/UMAGeT_21v1/data/target_labels_aug/'+subject_id+'_labels_n0.nii')\n",
    "\n",
    "plotting.plot_roi(roi_img=msk, bg_img=img, cmap=plt.cm.get_cmap('jet', 1))"
   ],
   "outputs": [],
   "metadata": {}
  },
  {
   "cell_type": "code",
   "execution_count": null,
   "source": [
    "# Sanity check- values for normalized images and masks\n",
    "print(\"img: \",np.max(img.get_fdata()),np.min(img.get_fdata()),np.unique(img.get_fdata()))\n",
    "print(\"msk: \",np.max(msk.get_fdata()),np.min(msk.get_fdata()),np.unique(msk.get_fdata()))\n",
    "\n",
    "img_orig = nib.load('/home/swapna91/scratch/UMAGeT_21v1/data/brains/'+subject_id+'_t1.nii')\n",
    "msk_orig = nib.load('/home/swapna91/scratch/UMAGeT_21v1/data/target_labels/'+subject_id+'_labels.nii')\n",
    "print(\"img orig: \",np.unique(img_orig.get_fdata()))\n",
    "print(\"msk orig: \",np.unique(img_orig.get_fdata()))"
   ],
   "outputs": [],
   "metadata": {}
  },
  {
   "cell_type": "code",
   "execution_count": null,
   "source": [
    "no_filenames = 10\n",
    "angles =  np.arange(-5, 6, 1)\n",
    "rot_prob = np.around(scipy.stats.norm.pdf(angles,0,1),2)\n",
    "\n",
    "#rot_ang= np.random.choice(angles, no_filenames, p=[0.01, 0.01, 0.02, 0.03, 0.03, 0.04, 0.05, 0.06, 0.07, 0.08, 0.6, 0.08, 0.07, 0.06, 0.05, 0.04, 0.03, 0.03, 0.02, 0.01, 0.01])\n",
    "print(angles)\n",
    "print(sum(rot_prob),\"|\",rot_prob)\n",
    "#print(rot_ang)\n",
    "\n",
    "plt.plot(rot_prob)\n"
   ],
   "outputs": [],
   "metadata": {}
  },
  {
   "cell_type": "code",
   "execution_count": null,
   "source": [
    "b=1\n",
    "a = scipy.stats.rice.rvs(size=100,b=1, scale=2.5)\n",
    "#x = a.rvs(size=100)\n",
    "plt.hist(a)\n"
   ],
   "outputs": [],
   "metadata": {}
  },
  {
   "cell_type": "code",
   "execution_count": null,
   "source": [
    "import numpy as np\n",
    "deform = np.random.randint(0,2,10)"
   ],
   "outputs": [],
   "metadata": {}
  },
  {
   "cell_type": "code",
   "execution_count": null,
   "source": [
    "a = np.around(np.random.choice((0,0.25,0.5,1),1),2)[0]\n",
    "b = np.random.randint(0,2,10)\n",
    "b"
   ],
   "outputs": [],
   "metadata": {}
  },
  {
   "cell_type": "code",
   "execution_count": null,
   "source": [
    "no_filenames = 10#\t\n",
    "\t\n",
    "angle_limit_neg = -8\n",
    "angle_limit_pos =  8\n",
    "prob_div = np.around(1/(angle_limit_pos - angle_limit_neg),3)\n",
    "\n",
    "angles_range=  np.arange(angle_limit_neg, angle_limit_pos+1, 1)\n",
    "rot_prob    =  [prob_div]*(angle_limit_pos+1 - angle_limit_neg) #scipy.stats.norm.pdf(angles_range,0,1)\n",
    "\n",
    "if sum(rot_prob) != 1:\n",
    "\tsub = 1 - sum(rot_prob)\n",
    "\trot_prob[0] += sub/2\n",
    "\trot_prob[len(rot_prob)-1] += sub/2\n",
    "\n",
    "angles =  np.random.choice(angles_range, no_filenames, p=rot_prob)\n",
    "\n",
    "print(prob_div)\n",
    "print(angles_range)\n",
    "print(rot_prob)\n",
    "print(sum(rot_prob))\n",
    "print(angles)"
   ],
   "outputs": [],
   "metadata": {}
  },
  {
   "cell_type": "code",
   "execution_count": null,
   "source": [
    "all_axes = [(1, 0), (1, 2), (0, 2)]\n",
    "angle     = np.random.randint(low=0, high=20+1)\n",
    "axes_random_id = np.random.randint(low=0, high=len(all_axes))\n",
    "axes = all_axes[axes_random_id]\n",
    "\n",
    "axes1 = np.random.choice(3,10) \n",
    "print(all_axes,\"|\",axes_random_id,\"|\",axes)\n",
    "\n",
    "print(axes1)"
   ],
   "outputs": [],
   "metadata": {}
  },
  {
   "cell_type": "code",
   "execution_count": null,
   "source": [
    "np.random.choice(np.arange(0,2.5,0.5),20,p=[0.5,0.125,0.125,0.125,0.125])"
   ],
   "outputs": [],
   "metadata": {}
  },
  {
   "cell_type": "code",
   "execution_count": null,
   "source": [
    "subject_id='ADB0015'\n",
    "\n",
    "imgFile = sitk.ReadImage('/home/swapna91/scratch/UMAGeT_21v1/data/brains/'+subject_id+'_t1.nii',imageIO=\"NiftiImageIO\")\n",
    "mskFile = sitk.ReadImage('/home/swapna91/scratch/UMAGeT_21v1/data/target_labels/'+subject_id+'_labels.nii',imageIO=\"NiftiImageIO\")\n",
    "\n",
    "msk = sitk.GetArrayFromImage(mskFile)\n",
    "\n",
    "print(mskFile.GetSize(),\"|\",msk.shape)"
   ],
   "outputs": [],
   "metadata": {}
  },
  {
   "cell_type": "code",
   "execution_count": null,
   "source": [
    "subject_id='ADB0015'\n",
    "\n",
    "imgFile = nib.load('/home/swapna91/scratch/UMAGeT_21v1/data/brains/'+subject_id+'_t1.nii')\n",
    "mskFile = nib.load('/home/swapna91/scratch/UMAGeT_21v1/data/target_labels/'+subject_id+'_labels.nii')\n",
    "\n",
    "img = imgFile.get_fdata()\n",
    "msk = mskFile.get_fdata()\n",
    "\n",
    "from scipy import ndimage, misc\n",
    "imgr = nib.Nifti1Image(scipy.ndimage.rotate(img, 45, axes=[(1, 0), (1, 2), (0, 2)], reshape=False),affine=np.eye(4))\n",
    "mskr = nib.Nifti1Image(scipy.ndimage.rotate(msk, 45, axes=[(1, 0), (1, 2), (0, 2)], reshape=False),affine=np.eye(4))\n",
    "\n",
    "plotting.plot_roi(roi_img=mskFile, bg_img=imgFile, cmap=plt.cm.get_cmap('jet', 1))\n",
    "plotting.plot_roi(roi_img=mskr, bg_img=imgr, cmap=plt.cm.get_cmap('jet', 1))\n"
   ],
   "outputs": [],
   "metadata": {}
  },
  {
   "cell_type": "code",
   "execution_count": null,
   "source": [],
   "outputs": [],
   "metadata": {}
  },
  {
   "cell_type": "code",
   "execution_count": null,
   "source": [
    "subject_id='ADB0015'\n",
    "imgL = nib.load('/home/swapna91/scratch/UMAGeT_21v1/data/data_net2/brains/'+subject_id+'_t1_L.nii')\n",
    "mskL = nib.load('/home/swapna91/scratch/UMAGeT_21v1/data/data_net2/target_labels/'+subject_id+'_labels_L.nii')\n",
    "\n",
    "imgR = nib.load('/home/swapna91/scratch/UMAGeT_21v1/data/data_net2/brains/'+subject_id+'_t1_R.nii')\n",
    "mskR = nib.load('/home/swapna91/scratch/UMAGeT_21v1/data/data_net2/target_labels/'+subject_id+'_labels_R.nii')\n",
    "\n",
    "plotting.plot_roi(roi_img=mskL, bg_img=imgL, cmap=plt.cm.get_cmap('jet', 1))\n",
    "plotting.plot_roi(roi_img=mskR, bg_img=imgR, cmap=plt.cm.get_cmap('jet', 1))"
   ],
   "outputs": [],
   "metadata": {}
  },
  {
   "cell_type": "code",
   "execution_count": null,
   "source": [
    "\n",
    "no_filenames = 15\n",
    "np.random.choice(11, round(no_filenames*1.4), p=[0.6, 0.08, 0.07, 0.06, 0.05, 0.04, 0.03, 0.03, 0.02, 0.01, 0.01])"
   ],
   "outputs": [],
   "metadata": {}
  },
  {
   "cell_type": "code",
   "execution_count": null,
   "source": [
    "no_filenames = 5\n",
    "a = np.random.choice([0,1], round(no_filenames*1.4), p=[0.6, 0.4])\n",
    "a"
   ],
   "outputs": [],
   "metadata": {}
  },
  {
   "cell_type": "code",
   "execution_count": null,
   "source": [
    "import SimpleITK as sitk\n",
    "from scipy import ndimage\n",
    "from IPython.display import Image, display\n",
    "\n",
    "img0 = sitk.ReadImage('/home/swapna91/scratch/UMAGeT_21v1/data/brains_aug/ADB0019_t1_t1_n4corrG0r00.nii', imageIO=\"NiftiImageIO\")\n",
    "img1 = Image(ndimage.rotate(sitk.GetArrayFromImage(img0), 45))\n",
    "\n",
    "display(img1)\n",
    "#plotting.plot_roi(roi_img=msk, bg_img=img, cmap=plt.cm.get_cmap('jet', 1))"
   ],
   "outputs": [],
   "metadata": {}
  },
  {
   "cell_type": "code",
   "execution_count": null,
   "source": [],
   "outputs": [],
   "metadata": {}
  },
  {
   "cell_type": "code",
   "execution_count": null,
   "source": [
    "import SimpleITK as sitk\n",
    "from skimage import io\n",
    "from scipy import ndimage, misc\n",
    "import matplotlib.pyplot as plt\n",
    "\n",
    "img0 = nib.load('/home/swapna91/scratch/UMAGeT_21v1/data/brains_aug/ADB0019_t1_t1_n4corrG0r00.nii').get_fdata()\n",
    "img1 = ndimage.rotate(img0, 0)"
   ],
   "outputs": [],
   "metadata": {}
  },
  {
   "cell_type": "code",
   "execution_count": null,
   "source": [],
   "outputs": [],
   "metadata": {}
  },
  {
   "cell_type": "code",
   "execution_count": null,
   "source": [],
   "outputs": [],
   "metadata": {}
  },
  {
   "cell_type": "code",
   "execution_count": null,
   "source": [
    "def display(im3d, cmap=\"gray\", step=7):\n",
    "    _, axes = plt.subplots(nrows=3, ncols=6, figsize=(16, 14))\n",
    "\n",
    "    vmin = im3d.min()\n",
    "    vmax = im3d.max()\n",
    "\n",
    "    for ax, image in zip(axes.flatten(), im3d[::step]):\n",
    "        ax.imshow(image, cmap=cmap, vmin=vmin, vmax=vmax)\n",
    "        ax.set_xticks([])\n",
    "        ax.set_yticks([])"
   ],
   "outputs": [],
   "metadata": {}
  },
  {
   "cell_type": "markdown",
   "source": [],
   "metadata": {}
  },
  {
   "cell_type": "code",
   "execution_count": null,
   "source": [
    "display(img1)"
   ],
   "outputs": [],
   "metadata": {}
  },
  {
   "cell_type": "code",
   "execution_count": null,
   "source": [
    "img0 = nib.load('/home/swapna91/scratch/UMAGeT_21v1/data/brains_aug/ADB0043_t1_t1_n4corrG1r00.nii').get_fdata()\n",
    "img1 = ndimage.rotate(img0, 0)"
   ],
   "outputs": [],
   "metadata": {}
  },
  {
   "cell_type": "code",
   "execution_count": null,
   "source": [
    "\n",
    "img0 = nib.load('/home/swapna91/scratch/UMAGeT_21v1/data/brains_aug/ADB0043_t1_t1_n4corrG1r00.nii').get_fdata()\n",
    "img1 = ndimage.rotate(img0, 0)\n",
    "\n",
    "display(img1)"
   ],
   "outputs": [],
   "metadata": {}
  }
 ],
 "metadata": {
  "orig_nbformat": 4,
  "language_info": {
   "name": "python",
   "version": "3.7.9",
   "mimetype": "text/x-python",
   "codemirror_mode": {
    "name": "ipython",
    "version": 3
   },
   "pygments_lexer": "ipython3",
   "nbconvert_exporter": "python",
   "file_extension": ".py"
  },
  "kernelspec": {
   "name": "python3",
   "display_name": "Python 3.7.9 64-bit ('Uvenv2': venv)"
  },
  "interpreter": {
   "hash": "0a1708791053ce8acb4cba7692493a19a070b3e8f0302af9aef5630d3878e991"
  }
 },
 "nbformat": 4,
 "nbformat_minor": 2
}